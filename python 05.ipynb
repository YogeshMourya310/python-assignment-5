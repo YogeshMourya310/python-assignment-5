{
 "cells": [
  {
   "cell_type": "raw",
   "metadata": {},
   "source": [
    "1. What does an empty dictionary's code look like?\n",
    "d={}"
   ]
  },
  {
   "cell_type": "raw",
   "metadata": {},
   "source": [
    "2. What is the value of a dictionary value with the key'foo' and the value 42?\n",
    "{'foo':42}"
   ]
  },
  {
   "cell_type": "raw",
   "metadata": {},
   "source": [
    "3. What is the most significant distinction between a dictionary and a list?\n",
    "Dictionaries are created by {} where as listed are created by []"
   ]
  },
  {
   "cell_type": "raw",
   "metadata": {},
   "source": [
    "4. What happens if you try to access spam['foo'] if spam is {'bar':100} ?\n",
    "Ans -  we get keyerror KeyError: 'foo'"
   ]
  },
  {
   "cell_type": "raw",
   "metadata": {},
   "source": [
    "5. If a dictionary is stored in spam, what is the difference between the expressions  'cat' in spam and 'cat' in spam.keys() ?\n",
    "Ans -   There is no difference . The operator checks whether a value exits as a key in the dictionary or not"
   ]
  },
  {
   "cell_type": "raw",
   "metadata": {},
   "source": [
    "6.if a dictionary is stored in spam,what is the difference between the expressions 'cat' in spam and 'cat' in spam.values() ?\n",
    "Ans - 'cat' in spam checks whether there is a 'cat' key in the dictionary, \n",
    "while 'cat' in spam.values() checks whether there is a value 'cat' for one of the keys in spam.\n"
   ]
  },
  {
   "cell_type": "raw",
   "metadata": {},
   "source": [
    "7.what is a shortcut for the following code ?\n",
    "if 'color' not in spam:\n",
    "    spam['color'] ='black'\n",
    "\n",
    "Ans: spam.setdefault('color','black')"
   ]
  },
  {
   "cell_type": "raw",
   "metadata": {},
   "source": [
    "8.How do you 'pretty print' dictionary values using which modules and function ?"
   ]
  },
  {
   "cell_type": "code",
   "execution_count": 11,
   "metadata": {},
   "outputs": [
    {
     "name": "stdout",
     "output_type": "stream",
     "text": [
      "Printing using print() function\n",
      " [{'Name': 'yash', 'Age': '23', 'Residence': {'Country': 'india', 'City': 'bhopal'}}, {'Name': 'Jose', 'Age': '44', 'Residence': {'Country': 'Spain', 'City': 'Madrid'}}, {'Name': 'Anne', 'Age': '29', 'Residence': {'Country': 'UK', 'City': 'England'}}, {'Name': 'Lee', 'Age': '35', 'Residence': {'Country': 'Japan', 'City': 'Osaka'}}]\n",
      "****************************************************************************************************\n",
      "Printing using pprint() funciton\n",
      "[{'Age': '23',\n",
      "  'Name': 'yash',\n",
      "  'Residence': {'City': 'bhopal', 'Country': 'india'}},\n",
      " {'Age': '44',\n",
      "  'Name': 'Jose',\n",
      "  'Residence': {'City': 'Madrid', 'Country': 'Spain'}},\n",
      " {'Age': '29',\n",
      "  'Name': 'Anne',\n",
      "  'Residence': {'City': 'England', 'Country': 'UK'}},\n",
      " {'Age': '35',\n",
      "  'Name': 'Lee',\n",
      "  'Residence': {'City': 'Osaka', 'Country': 'Japan'}}]\n",
      "****************************************************************************************************\n",
      "Printing using dumps() method\n",
      " [\n",
      "     {\n",
      "          \"Name\": \"yash\",\n",
      "          \"Age\": \"23\",\n",
      "          \"Residence\": {\n",
      "               \"Country\": \"india\",\n",
      "               \"City\": \"bhopal\"\n",
      "          }\n",
      "     },\n",
      "     {\n",
      "          \"Name\": \"Jose\",\n",
      "          \"Age\": \"44\",\n",
      "          \"Residence\": {\n",
      "               \"Country\": \"Spain\",\n",
      "               \"City\": \"Madrid\"\n",
      "          }\n",
      "     },\n",
      "     {\n",
      "          \"Name\": \"Anne\",\n",
      "          \"Age\": \"29\",\n",
      "          \"Residence\": {\n",
      "               \"Country\": \"UK\",\n",
      "               \"City\": \"England\"\n",
      "          }\n",
      "     },\n",
      "     {\n",
      "          \"Name\": \"Lee\",\n",
      "          \"Age\": \"35\",\n",
      "          \"Residence\": {\n",
      "               \"Country\": \"Japan\",\n",
      "               \"City\": \"Osaka\"\n",
      "          }\n",
      "     }\n",
      "]\n",
      "****************************************************************************************************\n",
      "Printing using dump() method\n",
      " - Age: '23'\n",
      "  Name: yash\n",
      "  Residence:\n",
      "    City: bhopal\n",
      "    Country: india\n",
      "- Age: '44'\n",
      "  Name: Jose\n",
      "  Residence:\n",
      "    City: Madrid\n",
      "    Country: Spain\n",
      "- Age: '29'\n",
      "  Name: Anne\n",
      "  Residence:\n",
      "    City: England\n",
      "    Country: UK\n",
      "- Age: '35'\n",
      "  Name: Lee\n",
      "  Residence:\n",
      "    City: Osaka\n",
      "    Country: Japan\n",
      "\n"
     ]
    }
   ],
   "source": [
    "ndict = [\n",
    "  {'Name': 'yash', 'Age': '23', 'Residence': {'Country':'india', 'City': 'bhopal'}},\n",
    "  {'Name': 'Jose', 'Age': '44', 'Residence': {'Country':'Spain', 'City': 'Madrid'}},\n",
    "  {'Name': 'Anne', 'Age': '29', 'Residence': {'Country':'UK', 'City': 'England'}},\n",
    "  {'Name': 'Lee', 'Age': '35', 'Residence': {'Country':'Japan', 'City': 'Osaka'}}\n",
    "]\n",
    "\n",
    "print('Printing using print() function\\n',ndict)\n",
    "print('*'*100)\n",
    "import pprint\n",
    "print('Printing using pprint() funciton')\n",
    "pprint.pprint(ndict)\n",
    "print('*'*100)\n",
    "import json\n",
    "d = json.dumps(ndict, indent=5)\n",
    "print('Printing using dumps() method\\n', d)\n",
    "print('*'*100)\n",
    "import yaml\n",
    "d = yaml.dump(ndict)\n",
    "print('Printing using dump() method\\n', d)"
   ]
  }
 ],
 "metadata": {
  "kernelspec": {
   "display_name": "Python 3",
   "language": "python",
   "name": "python3"
  },
  "language_info": {
   "codemirror_mode": {
    "name": "ipython",
    "version": 3
   },
   "file_extension": ".py",
   "mimetype": "text/x-python",
   "name": "python",
   "nbconvert_exporter": "python",
   "pygments_lexer": "ipython3",
   "version": "3.8.3"
  }
 },
 "nbformat": 4,
 "nbformat_minor": 4
}
